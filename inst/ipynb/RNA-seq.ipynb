{
 "cells": [
  {
   "cell_type": "markdown",
   "metadata": {},
   "source": [
    "# RNA-seq differential expression workflow\n",
    "\n",
    "This notebooks walks through a typical RNA-seq analysis. We start with the 'count matrix' of genes in each sample."
   ]
  },
  {
   "cell_type": "code",
   "execution_count": null,
   "metadata": {},
   "outputs": [],
   "source": [
    "counts <- read.csv(\"~/inst/extdata/rnaseq/counts.csv\", row.names = 1)"
   ]
  },
  {
   "cell_type": "markdown",
   "metadata": {},
   "source": [
    "The data are read as a `data.frame()`, but a more appropriate structure is a matrix; let's explore the data a little"
   ]
  },
  {
   "cell_type": "code",
   "execution_count": null,
   "metadata": {},
   "outputs": [],
   "source": [
    "counts <- as.matrix(counts)\n",
    "dim(counts)\n",
    "head(counts)"
   ]
  }
 ],
 "metadata": {
  "kernelspec": {
   "display_name": "Bioconductor 3.7",
   "language": "R",
   "name": "bioc-3.7"
  }
 },
 "nbformat": 4,
 "nbformat_minor": 2
}
